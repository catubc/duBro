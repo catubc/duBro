{
 "cells": [
  {
   "cell_type": "code",
   "execution_count": 1,
   "metadata": {},
   "outputs": [
    {
     "data": {
      "application/javascript": [
       "IPython.notebook.set_autosave_interval(180000)"
      ]
     },
     "metadata": {},
     "output_type": "display_data"
    },
    {
     "name": "stdout",
     "output_type": "stream",
     "text": [
      "Autosaving every 180 seconds\n"
     ]
    },
    {
     "data": {
      "text/html": [
       "<style>.container { width:100% !important; }</style>"
      ],
      "text/plain": [
       "<IPython.core.display.HTML object>"
      ]
     },
     "metadata": {},
     "output_type": "display_data"
    }
   ],
   "source": [
    "import matplotlib\n",
    "#matplotlib.use('Agg')\n",
    "%matplotlib tk\n",
    "%autosave 180\n",
    "import matplotlib.pyplot as plt\n",
    "from IPython.core.display import display, HTML\n",
    "display(HTML(\"<style>.container { width:100% !important; }</style>\"))\n",
    "import numpy as np"
   ]
  },
  {
   "cell_type": "code",
   "execution_count": 2,
   "metadata": {},
   "outputs": [
    {
     "name": "stdout",
     "output_type": "stream",
     "text": [
      "(10000, 128, 160)\n"
     ]
    }
   ],
   "source": [
    "# LOAD the first 10,000 PREDICTIONS/CONFIDENCE MAPS THAT COME OUT OF DEEPLABCUT for a particular video\n",
    "# Notes: \n",
    "#        Equivalent to 10000/25fps = 400seconds\n",
    "#        Dimensionts: [# of Frames, width, height]\n",
    "#        DLC PREDICTS ON 1280 x 1024 images, but they are downsampled to 128 x 160\n",
    "#               i.e. if we need higher resolution, it can be obtained easily\n",
    "\n",
    "predictions = np.load('/media/cat/4TBSSD/dan/march_2/madeline_dlc/march_16/2020-3-16_12_54_07_193951_compressed/predictions_10k_new_surfaces.npy')\n",
    "print (predictions.shape)\n",
    "plt.imshow(predictions[0])\n",
    "plt.show()\n",
    "\n"
   ]
  },
  {
   "cell_type": "code",
   "execution_count": 3,
   "metadata": {},
   "outputs": [
    {
     "name": "stdout",
     "output_type": "stream",
     "text": [
      "0\n",
      "100\n",
      "200\n",
      "300\n",
      "400\n",
      "500\n",
      "600\n",
      "700\n",
      "800\n",
      "900\n"
     ]
    }
   ],
   "source": [
    "# LOAD THE FIRST 1,000 VIDEO FRAMES (there are 10k in the saved file)\n",
    "\n",
    "import cv2\n",
    "vidcap = cv2.VideoCapture('/media/cat/4TBSSD/dan/march_2/madeline_dlc/march_16/2020-3-16_12_54_07_193951_compressed/2020-3-16_12_54_07_193951_compressed.avi')\n",
    "images = []\n",
    "count=0\n",
    "max_count = 1000 # THERE ARE 10,000 frames here;\n",
    "while True:\n",
    "    success, image = vidcap.read()\n",
    "    \n",
    "    if success==False:\n",
    "        break\n",
    "        \n",
    "    images.append(image)\n",
    "    if count%100==0:\n",
    "        print (count)\n",
    "    count += 1\n",
    "    if count>=max_count:\n",
    "        break\n",
    "images = np.array(images)"
   ]
  },
  {
   "cell_type": "code",
   "execution_count": 99,
   "metadata": {},
   "outputs": [],
   "source": [
    "# VISUALIZE AS SANITY CHECK SIDE BY SIDE\n",
    "# SELECT FRAME\n",
    "\n",
    "frame = 200\n",
    "\n",
    "ax=plt.subplot(2,2,1)\n",
    "plt.title(\"Raw video frame\",fontsize=16)\n",
    "plt.imshow(images[frame][::8,::8],alpha=1)\n",
    "ax=plt.subplot(2,2,2)\n",
    "plt.title(\"DLC (sum) heatmaps\",fontsize=16)\n",
    "plt.imshow(predictions[frame],alpha=1)\n",
    "ax=plt.subplot(2,2,3)\n",
    "plt.title(\"Overlayed as a sanity check\",fontsize=16)\n",
    "plt.imshow(images[frame][::8,::8],alpha=.5)\n",
    "plt.imshow(predictions[frame],alpha=.5)\n",
    "plt.show()\n"
   ]
  },
  {
   "cell_type": "code",
   "execution_count": 29,
   "metadata": {},
   "outputs": [
    {
     "name": "stdout",
     "output_type": "stream",
     "text": [
      "(1000, 1024, 1280)\n"
     ]
    }
   ],
   "source": [
    "data = np.array(images).mean(3)\n",
    "print (data.shape)"
   ]
  },
  {
   "cell_type": "code",
   "execution_count": 30,
   "metadata": {},
   "outputs": [],
   "source": [
    "median = np.median(data,axis=0)\n",
    "plt.imshow(median)\n",
    "plt.show()"
   ]
  },
  {
   "cell_type": "code",
   "execution_count": 54,
   "metadata": {
    "scrolled": true
   },
   "outputs": [
    {
     "name": "stdout",
     "output_type": "stream",
     "text": [
      "[  202   642   848   960  1139  1186  1342  1355  1656  1679  2445  2720\n",
      "  2821  3035  3112  3163  3241  3467  3622  3653  4037  4211  4262  4476\n",
      "  4768  5301  5756  5861  5966  6110  6333  7084  7227  7292  7691  7728\n",
      "  7941  7989  8085  8174  8409  8422  8581  8768  9083  9208  9285  9435\n",
      "  9467  9865 10179 10261 10415 10856 10958 11212 11227 11335 11739 11780\n",
      " 12021 12262 12267 12592 12689 13021 13147 13159 13473 13478 13679 13683\n",
      " 13790 14012 14164 14342 14537 14744 14799 14884 15170 15187 15226 15715\n",
      " 15723 15787 16214 16368 16665 17288 17319 17966 18100 18245 18499 18656\n",
      " 18663 18880 18925 19084 19139 19225 19381 19486 19559 19778 19985 20065\n",
      " 20278 20908 21043 21728 21735 22107 22208 22478 22566 22702 22836 23271\n",
      " 23454 23566 23796 23919 23959 24527 24935 25217 25223 25422 25482 25548\n",
      " 25586 25642 25716 25894 26065 26347 26403 26437 26765 26914 26965 27018\n",
      " 27026 27245 27437 27499 27518 27766 27793 28086 28270 28288 29688 29765\n",
      " 30138 30194 30208 30587 30591 30899 30949 31486 31513 31848 32597 32600\n",
      " 32745 32817 32867 32898 33170 33284 33625 33666 33834 34378 34449 35079\n",
      " 35429 35506 35705 35811 35932 36018 36429 36562 36585 36805 37078 37079\n",
      " 37180 37638 37683 38045 38058 38203 38322 38592 38736 38765 38906 39100\n",
      " 39135 39225 39227 39231 39253 39340 39400 39635 39882 39955 40332 40396\n",
      " 40490 40553 41008 41264 41293 41647 41679 41691 41705 42095 42276 42369\n",
      " 42452 42494 42556 42606 42667 42767 42869 43117 43352 43594 43666 43698\n",
      " 44049 44251 44305 44358 44512 44589 44598 44970 45480 45545 46197 46459\n",
      " 46702 46818 47021 47028 47109 47215 47424 47469 47512 47992 48015 48052\n",
      " 48090 48239 48575 48919 48926 49323 49401 49436 49510 49524 49901 50034\n",
      " 50258 50434 50470 50499 50591 50594 50877 50921 51024 51308 51536 52038\n",
      " 52044 52105 52336 52372 52430 52489 52490 52585 52901 53219 53558 53865\n",
      " 54084 54132 54391 54516 54534 54640 54833 54853 54918 55317 55342 55458\n",
      " 55527 55873 56074 56314 56330 56432 56524 56597 57173 57174 57385 58110\n",
      " 58165 58313 58346 58486 58487 58523 58803 59019 59165 59262 59348 59576\n",
      " 59769 59772 60074 60101 60499 60668 60862 61342 61718 62065 62369 62657\n",
      " 62885 63075 63218 63252 63330 63636 63984 64210 64278 64376 64557 64574\n",
      " 65022 65041 65169 65396 65451 65805 65869 65905 65916 66079 66608 66674\n",
      " 66936 67256 67566 67952 67961 68153 68315 68445 68728 68780 68928 68948\n",
      " 68989 69103 69154 69307 69358 69539 70502 70654 70978 71210 71602 71805\n",
      " 71929 72177 72282 72529 72744 72886 72930 73322 73615 73728 73753 74121\n",
      " 74260 74304 74450 74776 74794 74841 74899 75236 75802 75820 75846 75966\n",
      " 75982 76015 76279 76328 76476 76718 76902 77539 77581 77595 77675 77740\n",
      " 78030 78216 78745 79241 79317 79561 79595 79693 79790 79874 80070 80277\n",
      " 80358 80397 80460 80553 80681 80762 81000 81470 81475 81622 81709 81840\n",
      " 81860 82349 82648 83475 83731 83911 84333 84354 84631 84698 84863 85112\n",
      " 85122 85162 85169 85318 85407 85450 85481 85665 85738 86192 86201 86284\n",
      " 86312 86422 86609 86688 86751 87092 87320 87387 87427 87580 87636 87672\n",
      " 87674 88116 88363 88410 88862 88889 88958 88993]\n",
      "0 202\n",
      "25 5301\n",
      "50 10179\n",
      "75 14342\n",
      "100 19139\n",
      "125 24527\n",
      "150 27793\n",
      "175 33666\n",
      "200 38736\n",
      "225 42095\n",
      "250 46197\n",
      "275 50034\n",
      "300 54084\n",
      "325 58313\n",
      "350 63218\n",
      "375 67952\n",
      "400 72744\n",
      "425 76718\n",
      "450 81000\n",
      "475 85665\n"
     ]
    }
   ],
   "source": [
    "# LOAD RANDOM 500 VIDEO FRAMES (there are 10k in the saved file)\n",
    "\n",
    "import cv2\n",
    "cap = cv2.VideoCapture('/media/cat/4TBSSD/dan/march_2/madeline_dlc/march_16/2020-3-16_12_54_07_193951_compressed/2020-3-16_12_54_07_193951_compressed.avi')\n",
    "\n",
    "frames = np.random.choice(np.arange(89000), 500)\n",
    "frames = np.sort(frames)\n",
    "print (frames)\n",
    "\n",
    "images = []\n",
    "count=0\n",
    "max_count = frames.shape[0] # THERE ARE 10,000 frames here;\n",
    "while True:\n",
    "    cap.set(cv2.CAP_PROP_POS_FRAMES, frames[count]) # optional\n",
    "    success, image = cap.read()\n",
    "    images.append(image)\n",
    "    if count%25==0:\n",
    "        print (count, frames[count])\n",
    "    count += 1\n",
    "    if count>=max_count:\n",
    "        break\n"
   ]
  },
  {
   "cell_type": "code",
   "execution_count": 63,
   "metadata": {},
   "outputs": [
    {
     "name": "stdout",
     "output_type": "stream",
     "text": [
      "(500, 1024, 1280, 3)\n"
     ]
    }
   ],
   "source": [
    "data = np.float32(images)\n",
    "print (data.shape)\n",
    "#plt.imshow(data[30])\n",
    "#plt.show()\n"
   ]
  },
  {
   "cell_type": "code",
   "execution_count": 64,
   "metadata": {},
   "outputs": [],
   "source": [
    "median = np.median(data,axis=0)\n",
    "plt.suptitle(\"Median over 500 random frames from a 1 hr movie\")\n",
    "rgb = ['red','green','blue']\n",
    "for k in range(3):\n",
    "    ax=plt.subplot(2,2,k+1)\n",
    "    plt.imshow(median[:,:,k])\n",
    "    plt.title(\"Color channel: \"+rgb[k])\n",
    "    \n",
    "plt.show()"
   ]
  },
  {
   "cell_type": "code",
   "execution_count": 86,
   "metadata": {},
   "outputs": [
    {
     "name": "stdout",
     "output_type": "stream",
     "text": [
      "(1024, 1280, 3) (500, 1024, 1280, 3)\n"
     ]
    }
   ],
   "source": [
    "fig=plt.figure(figsize=(20,20))\n",
    "print (median.shape, data.shape)\n",
    "ids = np.arange(0,36,1)\n",
    "k=2\n",
    "ctr=0\n",
    "for id_ in ids:\n",
    "    diff = median - data[id_]\n",
    "    ax=plt.subplot(6,6,ctr+1)\n",
    "    plt.title(\" frame: \"+str(frames[id_]))\n",
    "    plt.imshow(diff[:,:,k])\n",
    "    ctr+=1\n",
    "plt.savefig('/home/cat/diff.png')\n",
    "plt.close()\n",
    "#plt.show()"
   ]
  },
  {
   "cell_type": "code",
   "execution_count": 67,
   "metadata": {},
   "outputs": [
    {
     "name": "stdout",
     "output_type": "stream",
     "text": [
      "[[[14. 14. 47.]\n",
      "  [14. 14. 47.]\n",
      "  [14. 14. 47.]\n",
      "  ...\n",
      "  [13. 14. 39.]\n",
      "  [13. 14. 39.]\n",
      "  [13. 14. 39.]]\n",
      "\n",
      " [[14. 14. 47.]\n",
      "  [14. 14. 47.]\n",
      "  [14. 14. 47.]\n",
      "  ...\n",
      "  [13. 14. 39.]\n",
      "  [13. 14. 39.]\n",
      "  [13. 14. 39.]]\n",
      "\n",
      " [[14. 14. 47.]\n",
      "  [14. 14. 47.]\n",
      "  [14. 14. 47.]\n",
      "  ...\n",
      "  [13. 14. 39.]\n",
      "  [13. 14. 39.]\n",
      "  [13. 14. 39.]]\n",
      "\n",
      " ...\n",
      "\n",
      " [[30. 28. 61.]\n",
      "  [30. 28. 61.]\n",
      "  [30. 28. 61.]\n",
      "  ...\n",
      "  [12. 13. 31.]\n",
      "  [12. 13. 31.]\n",
      "  [12. 13. 31.]]\n",
      "\n",
      " [[30. 28. 61.]\n",
      "  [30. 28. 61.]\n",
      "  [30. 28. 61.]\n",
      "  ...\n",
      "  [12. 13. 31.]\n",
      "  [12. 13. 31.]\n",
      "  [12. 13. 31.]]\n",
      "\n",
      " [[30. 28. 61.]\n",
      "  [30. 28. 61.]\n",
      "  [30. 28. 61.]\n",
      "  ...\n",
      "  [12. 13. 31.]\n",
      "  [12. 13. 31.]\n",
      "  [12. 13. 31.]]]\n"
     ]
    }
   ],
   "source": [
    "print (data[0])"
   ]
  },
  {
   "cell_type": "code",
   "execution_count": null,
   "metadata": {},
   "outputs": [],
   "source": []
  },
  {
   "cell_type": "code",
   "execution_count": null,
   "metadata": {},
   "outputs": [],
   "source": []
  }
 ],
 "metadata": {
  "kernelspec": {
   "display_name": "Python 3",
   "language": "python",
   "name": "python3"
  },
  "language_info": {
   "codemirror_mode": {
    "name": "ipython",
    "version": 3
   },
   "file_extension": ".py",
   "mimetype": "text/x-python",
   "name": "python",
   "nbconvert_exporter": "python",
   "pygments_lexer": "ipython3",
   "version": "3.7.0"
  }
 },
 "nbformat": 4,
 "nbformat_minor": 4
}
